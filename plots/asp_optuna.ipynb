{
 "cells": [
  {
   "cell_type": "code",
   "execution_count": null,
   "metadata": {},
   "outputs": [],
   "source": [
    "import optuna\n",
    "from pathlib import Path"
   ]
  },
  {
   "cell_type": "markdown",
   "metadata": {},
   "source": [
    "### Load Studies"
   ]
  },
  {
   "cell_type": "code",
   "execution_count": null,
   "metadata": {},
   "outputs": [],
   "source": [
    "storage_path = Path(Path.cwd().parent, 'simulations', 'data', 'optuna')\n",
    "studies = {}\n",
    "\n",
    "# ASP-d: AUC ROC metric\n",
    "p = Path(Path(storage_path, 'optuna_asp_d_roc'),'optuna_asp_d_roc.db')\n",
    "studies['optuna_asp_d_roc'] = optuna.load_study(study_name='optuna_asp_d_roc', storage=f'sqlite:///{p}')\n",
    "# ASP-s: AUC ROC metric\n",
    "p = Path(Path(storage_path, 'optuna_asp_s_roc'),'optuna_asp_s_roc.db')\n",
    "studies['optuna_asp_s_roc'] = optuna.load_study(study_name='optuna_asp_s_roc', storage=f'sqlite:///{p}')\n",
    "# ASP-d: accuracy metric\n",
    "p = Path(Path(storage_path, 'optuna_asp_d_acc'),'optuna_asp_d_acc.db')\n",
    "studies['optuna_asp_d_acc'] = optuna.load_study(study_name='optuna_asp_d_acc', storage=f'sqlite:///{p}')\n",
    "# ASP-s: accuracy metric\n",
    "p = Path(Path(storage_path, 'optuna_asp_s_acc'),'optuna_asp_s_acc.db')\n",
    "studies['optuna_asp_s_acc'] = optuna.load_study(study_name='optuna_asp_s_acc', storage=f'sqlite:///{p}')\n",
    "# ASP-s: accuracy metric, narrow region for hyperparameters\n",
    "p = Path(Path(storage_path, 'optuna_asp_s_acc_narrow'),'optuna_asp_s_acc_narrow.db')\n",
    "studies['optuna_asp_s_acc_narrow'] = optuna.load_study(study_name='optuna_asp_s_acc_narrow', storage=f'sqlite:///{p}')\n",
    "# ASP-d: accuracy metric, narrow region for hyperparameters\n",
    "p = Path(Path(storage_path, 'optuna_asp_d_acc_narrow'), 'optuna_asp_d_acc_narrow.db')\n",
    "studies['optuna_asp_d_acc_narrow'] = optuna.load_study(study_name='optuna_asp_d_acc_narrow', storage=f'sqlite:///{p}')"
   ]
  },
  {
   "cell_type": "code",
   "execution_count": null,
   "metadata": {},
   "outputs": [],
   "source": [
    "# Sanity check\n",
    "for study in studies.values():\n",
    "\n",
    "    df = study.trials_dataframe()\n",
    "    print(f\"Study name: {study.study_name}, number of trials: {len(df)}\")\n",
    "    \n",
    "    # All trials are complete\n",
    "    for _, row in df.iterrows():\n",
    "        assert row.state == \"COMPLETE\""
   ]
  },
  {
   "cell_type": "markdown",
   "metadata": {},
   "source": [
    "### ASP-s"
   ]
  },
  {
   "cell_type": "markdown",
   "metadata": {},
   "source": [
    "Information about this study:\n",
    "* Algorithm: ASP-s (mode 3)\n",
    "* Hyperparameters: \n",
    "    * significance level **alpha** for the conditional independence tests, ranging from 0.005 to 0.2\n",
    "* Metric: total AUC ROC over edge and confounder calculated from confidence values\n",
    "* Number of models per trial: 25 models with random assignment to two intervention types (size-one-count-three and size-three-count-three) and sample sizes of 1k and 10k.\n"
   ]
  },
  {
   "cell_type": "code",
   "execution_count": null,
   "metadata": {},
   "outputs": [],
   "source": [
    "# title\n",
    "study = studies['optuna_asp_s_roc']\n",
    "title = f\"\"\" Sensitivity of the objective value to significance threshold alpha.<br>\n",
    "Optimal alpha = {study.best_params['alpha']:.3f} with AUC ROC = {study.best_value:.3f}\"\"\"\n",
    "\n",
    "# plot\n",
    "fig = optuna.visualization.plot_slice(study)\n",
    "fig.update_layout(\n",
    "    title={\n",
    "        \"text\": title,\n",
    "        \"y\":0.95,\n",
    "        \"x\":0.5,\n",
    "        \"xanchor\": \"center\",\n",
    "        \"yanchor\": \"top\"\n",
    "    }\n",
    ")\n",
    "fig.show()"
   ]
  },
  {
   "cell_type": "markdown",
   "metadata": {},
   "source": [
    "<hr style=\"border: none; border-top: 2px solid;\">"
   ]
  },
  {
   "cell_type": "markdown",
   "metadata": {},
   "source": [
    "Information about this study:\n",
    "* Algorithm: ASP-s (mode 3)\n",
    "* Hyperparameters: \n",
    "    * significance level **alpha** for the conditional independence tests, ranging from 0.005 to 0.2\n",
    "    * threshold **z** for calculating the accuracy from the confidence values from running mode 3, ranging from -1e6 to 1e6.\n",
    "* Metric: total accuracy over edge and confounder calculated from confidence values\n",
    "* Number of models per trial: 25 models with random assignment to two intervention types (size-one-count-three and size-three-count-three) and sample sizes of 1k and 10k."
   ]
  },
  {
   "cell_type": "code",
   "execution_count": null,
   "metadata": {},
   "outputs": [],
   "source": [
    "# title \n",
    "study = studies['optuna_asp_s_acc']\n",
    "title = f\"\"\" Sensitivity of the objective value to significance threshold alpha and threshold z.<br>\n",
    "Optimal alpha = {study.best_params['alpha']:.3f}, z = {study.best_params['z']:.3f} \n",
    "with accuracy = {study.best_value:.3f}\"\"\"\n",
    "\n",
    "\n",
    "# plot\n",
    "fig = optuna.visualization.plot_slice(study)\n",
    "fig.update_layout(\n",
    "    title={\n",
    "        \"text\": title,\n",
    "        \"y\":0.95,\n",
    "        \"x\":0.5,\n",
    "        \"xanchor\": \"center\",\n",
    "        \"yanchor\": \"top\"\n",
    "    }\n",
    ")\n",
    "fig.show()"
   ]
  },
  {
   "cell_type": "markdown",
   "metadata": {},
   "source": [
    "<hr style=\"border: none; border-top: 2px solid;\">"
   ]
  },
  {
   "cell_type": "markdown",
   "metadata": {},
   "source": [
    "Information about this study:\n",
    "* Algorithm: ASP-s (mode 3) - same as the study above, but with different range for hyperparameters\n",
    "* Hyperparameters: \n",
    "    * significance level **alpha** for the conditional independence tests, ranging from 0.005 to 0.2\n",
    "    * threshold **z** for calculating the accuracy from the confidence values from running mode 3, ranging from -10 to 50.\n",
    "* Metric: total accuracy over edge and confounder calculated from confidence values\n",
    "* Number of models per trial: 25 models with random assignment to two intervention types (size-one-count-three and size-three-count-three) and sample sizes of 1k and 10k."
   ]
  },
  {
   "cell_type": "code",
   "execution_count": null,
   "metadata": {},
   "outputs": [],
   "source": [
    "# title \n",
    "study = studies['optuna_asp_s_acc_narrow']\n",
    "title = f\"\"\" Sensitivity of the objective value to significance threshold alpha and threshold z.<br>\n",
    "Optimal alpha = {study.best_params['alpha']:.3f}, z = {study.best_params['z']:.3f} \n",
    "with accuracy = {study.best_value:.3f}\"\"\"\n",
    "\n",
    "\n",
    "# plot\n",
    "fig = optuna.visualization.plot_slice(study)\n",
    "fig.update_layout(\n",
    "    title={\n",
    "        \"text\": title,\n",
    "        \"y\":0.95,\n",
    "        \"x\":0.5,\n",
    "        \"xanchor\": \"center\",\n",
    "        \"yanchor\": \"top\"\n",
    "    }\n",
    ")\n",
    "fig.show()"
   ]
  },
  {
   "cell_type": "markdown",
   "metadata": {},
   "source": [
    "<hr style=\"border: none; border-top: 2px solid;\">"
   ]
  },
  {
   "cell_type": "markdown",
   "metadata": {},
   "source": [
    "### ASP-d"
   ]
  },
  {
   "cell_type": "markdown",
   "metadata": {},
   "source": [
    "Information about this study:\n",
    "* Algorithm: ASP-d\n",
    "* Hyperparameters: \n",
    "    * significance level **alpha** for the conditional independence tests, ranging from 0.005 to 0.2\n",
    "* Metric: total AUC ROC over edge and confounder calculated from confidence values\n",
    "* Number of models per trial: 25 models with random assignment to two intervention types (size-one-count-three and size-three-count-three) and sample sizes of 1k and 10k.\n"
   ]
  },
  {
   "cell_type": "code",
   "execution_count": null,
   "metadata": {},
   "outputs": [],
   "source": [
    "# title\n",
    "study = studies['optuna_asp_d_roc']\n",
    "title = f\"\"\" Sensitivity of the objective value to significance threshold alpha.<br>\n",
    "Optimal alpha = {study.best_params['alpha']:.3f} with AUC ROC = {study.best_value:.3f}\"\"\"\n",
    "\n",
    "# plot\n",
    "fig = optuna.visualization.plot_slice(study)\n",
    "fig.update_layout(\n",
    "    title={\n",
    "        \"text\": title,\n",
    "        \"y\":0.95,\n",
    "        \"x\":0.5,\n",
    "        \"xanchor\": \"center\",\n",
    "        \"yanchor\": \"top\"\n",
    "    }\n",
    ")\n",
    "fig.show()"
   ]
  },
  {
   "cell_type": "markdown",
   "metadata": {},
   "source": [
    "<hr style=\"border: none; border-top: 2px solid;\">"
   ]
  },
  {
   "cell_type": "markdown",
   "metadata": {},
   "source": [
    "Information about this study:\n",
    "* Algorithm: ASP-d (mode 3)\n",
    "* Hyperparameters: \n",
    "    * significance level **alpha** for the conditional independence tests, ranging from 0.005 to 0.2\n",
    "    * threshold **z** for calculating the accuracy from the confidence values from running mode 3, ranging from -1e6 to 1e6.\n",
    "* Metric: total accuracy over edge and confounder calculated from confidence values\n",
    "* Number of models per trial: 25 models with random assignment to two intervention types (size-one-count-three and size-three-count-three) and sample sizes of 1k and 10k."
   ]
  },
  {
   "cell_type": "code",
   "execution_count": null,
   "metadata": {},
   "outputs": [],
   "source": [
    "# title \n",
    "study = studies['optuna_asp_d_acc']\n",
    "title = f\"\"\" Sensitivity of the objective value to significance threshold alpha and threshold z.<br>\n",
    "Optimal alpha = {study.best_params['alpha']:.3f}, z = {study.best_params['z']:.3f} \n",
    "with accuracy = {study.best_value:.3f}\"\"\"\n",
    "\n",
    "\n",
    "# plot\n",
    "fig = optuna.visualization.plot_slice(study)\n",
    "fig.update_layout(\n",
    "    title={\n",
    "        \"text\": title,\n",
    "        \"y\":0.95,\n",
    "        \"x\":0.5,\n",
    "        \"xanchor\": \"center\",\n",
    "        \"yanchor\": \"top\"\n",
    "    }\n",
    ")\n",
    "fig.show()"
   ]
  },
  {
   "cell_type": "markdown",
   "metadata": {},
   "source": [
    "<hr style=\"border: none; border-top: 2px solid;\">"
   ]
  },
  {
   "cell_type": "markdown",
   "metadata": {},
   "source": [
    "Information about this study:\n",
    "* Algorithm: ASP-d (mode 3) - same as the study above, but with different range for hyperparameters\n",
    "* Hyperparameters: \n",
    "    * significance level **alpha** for the conditional independence tests, ranging from 0.005 to 0.2\n",
    "    * threshold **z** for calculating the accuracy from the confidence values from running mode 3, ranging from -10 to 50.\n",
    "* Metric: total accuracy over edge and confounder calculated from confidence values\n",
    "* Number of models per trial: 25 models with random assignment to two intervention types (size-one-count-three and size-three-count-three) and sample sizes of 1k and 10k."
   ]
  },
  {
   "cell_type": "code",
   "execution_count": null,
   "metadata": {},
   "outputs": [],
   "source": [
    "# title \n",
    "study = studies['optuna_asp_d_acc_narrow']\n",
    "title = f\"\"\" Sensitivity of the objective value to significance threshold alpha and threshold z.<br>\n",
    "Optimal alpha = {study.best_params['alpha']:.3f}, z = {study.best_params['z']:.3f} \n",
    "with accuracy = {study.best_value:.3f}\"\"\"\n",
    "\n",
    "\n",
    "# plot\n",
    "fig = optuna.visualization.plot_slice(study)\n",
    "fig.update_layout(\n",
    "    title={\n",
    "        \"text\": title,\n",
    "        \"y\":0.95,\n",
    "        \"x\":0.5,\n",
    "        \"xanchor\": \"center\",\n",
    "        \"yanchor\": \"top\"\n",
    "    }\n",
    ")\n",
    "fig.show()"
   ]
  }
 ],
 "metadata": {
  "kernelspec": {
   "display_name": "Python 3 (ipykernel)",
   "language": "python",
   "name": "python3"
  },
  "language_info": {
   "codemirror_mode": {
    "name": "ipython",
    "version": 3
   },
   "file_extension": ".py",
   "mimetype": "text/x-python",
   "name": "python",
   "nbconvert_exporter": "python",
   "pygments_lexer": "ipython3",
   "version": "3.10.8"
  }
 },
 "nbformat": 4,
 "nbformat_minor": 2
}
