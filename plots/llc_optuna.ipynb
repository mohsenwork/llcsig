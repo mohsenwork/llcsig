{
 "cells": [
  {
   "cell_type": "code",
   "execution_count": null,
   "metadata": {},
   "outputs": [],
   "source": [
    "import optuna\n",
    "from pathlib import Path"
   ]
  },
  {
   "cell_type": "markdown",
   "metadata": {},
   "source": [
    "### Load Studies"
   ]
  },
  {
   "cell_type": "code",
   "execution_count": null,
   "metadata": {},
   "outputs": [],
   "source": [
    "storage_path = Path(Path.cwd().parent, 'simulations', 'data', 'optuna')\n",
    "studies = {}\n",
    "\n",
    "# LLC-NF: AUC ROC metric - l1 reg\n",
    "p = Path(Path(storage_path, 'optuna_llc_nf_l1_roc'), 'optuna_llc_nf_l1_roc.db')\n",
    "studies['optuna_llc_nf_l1_roc'] = optuna.load_study(study_name='optuna_llc_nf_l1_roc', storage=f'sqlite:///{p}')\n",
    "# LLC-NF: AUC ROC metric - l2 reg\n",
    "p = Path(Path(storage_path, 'optuna_llc_nf_l2_roc'), 'optuna_llc_nf_l2_roc.db')\n",
    "studies['optuna_llc_nf_l2_roc'] = optuna.load_study(study_name='optuna_llc_nf_l2_roc', storage=f'sqlite:///{p}')\n",
    "# LLC-NF: accuracy metric - l1 reg\n",
    "p = Path(Path(storage_path, 'optuna_llc_nf_l1_acc'), 'optuna_llc_nf_l1_acc.db')\n",
    "studies['optuna_llc_nf_l1_acc'] = optuna.load_study(study_name='optuna_llc_nf_l1_acc', storage=f'sqlite:///{p}')\n",
    "# LLC-NF: accuracy metric - l2 reg\n",
    "p = Path(Path(storage_path, 'optuna_llc_nf_l2_acc'), 'optuna_llc_nf_l2_acc.db')\n",
    "studies['optuna_llc_nf_l2_acc'] = optuna.load_study(study_name='optuna_llc_nf_l2_acc', storage=f'sqlite:///{p}')\n",
    "\n",
    "# LLC-F: AUC ROC metric - l1 reg\n",
    "p = Path(Path(storage_path, 'optuna_llc_f_l1_roc'), 'optuna_llc_f_l1_roc.db')\n",
    "studies['optuna_llc_f_l1_roc'] = optuna.load_study(study_name='optuna_llc_f_l1_roc', storage=f'sqlite:///{p}')\n",
    "# LLC-F: AUC ROC metric - l2 reg\n",
    "p = Path(Path(storage_path, 'optuna_llc_f_l2_roc'), 'optuna_llc_f_l2_roc.db')\n",
    "studies['optuna_llc_f_l2_roc'] = optuna.load_study(study_name='optuna_llc_f_l2_roc', storage=f'sqlite:///{p}')\n",
    "# LLC-F: accuracy metric - l1 reg\n",
    "p = Path(Path(storage_path, 'optuna_llc_f_l1_acc'), 'optuna_llc_f_l1_acc.db')\n",
    "studies['optuna_llc_f_l1_acc'] = optuna.load_study(study_name='optuna_llc_f_l1_acc', storage=f'sqlite:///{p}')\n",
    "# LLC-F: accuracy metric - l2 reg\n",
    "p = Path(Path(storage_path, 'optuna_llc_f_l2_acc'), 'optuna_llc_f_l2_acc.db')\n",
    "studies['optuna_llc_f_l2_acc'] = optuna.load_study(study_name='optuna_llc_f_l2_acc', storage=f'sqlite:///{p}')"
   ]
  },
  {
   "cell_type": "code",
   "execution_count": null,
   "metadata": {},
   "outputs": [],
   "source": [
    "# Sanity check\n",
    "for study in studies.values():\n",
    "\n",
    "    df = study.trials_dataframe()\n",
    "    print(f\"Study name: {study.study_name}, number of trials: {len(df)}\")\n",
    "    \n",
    "    # All trials are complete\n",
    "    for _, row in df.iterrows():\n",
    "        assert row.state == \"COMPLETE\""
   ]
  },
  {
   "cell_type": "markdown",
   "metadata": {},
   "source": [
    "### LLC-NF"
   ]
  },
  {
   "cell_type": "markdown",
   "metadata": {},
   "source": [
    "Information about this study:\n",
    "* Algorithm: LLC (no faithfulness assumption)\n",
    "* Hyperparameters: \n",
    "    * regularization parameter **lambda** with L1 penalty, ranging from 0.0 to 1.0\n",
    "* Metric: total AUC ROC over edge and confounder calculated from z-scores\n",
    "* Number of models per trial: 25 models with random assignment to two intervention types (size-one-count-three and size-three-count-three) and sample sizes of 1k and 10k.\n"
   ]
  },
  {
   "cell_type": "code",
   "execution_count": null,
   "metadata": {},
   "outputs": [],
   "source": [
    "# title\n",
    "study = studies['optuna_llc_nf_l1_roc']\n",
    "title = f\"\"\" Sensitivity of the objective value to lambda with L1 penalty.<br>\n",
    "Optimal lamda = {study.best_params['lambda']:.3f} with AUC ROC = {study.best_value:.3f}\"\"\"\n",
    "\n",
    "# plot\n",
    "fig = optuna.visualization.plot_slice(study)\n",
    "fig.update_layout(\n",
    "    title={\n",
    "        \"text\": title,\n",
    "        \"y\":0.95,\n",
    "        \"x\":0.5,\n",
    "        \"xanchor\": \"center\",\n",
    "        \"yanchor\": \"top\"\n",
    "    }\n",
    ")\n",
    "fig.show()"
   ]
  },
  {
   "cell_type": "markdown",
   "metadata": {},
   "source": [
    "<hr style=\"border: none; border-top: 2px solid;\">"
   ]
  },
  {
   "cell_type": "markdown",
   "metadata": {},
   "source": [
    "Information about this study:\n",
    "* Algorithm: LLC (no faithfulness assumption)\n",
    "* Hyperparameters: \n",
    "    * regularization parameter **lambda** with L2 penalty, ranging from 0.0 to 1.0\n",
    "* Metric: total AUC ROC over edge and confounder calculated from z-scores\n",
    "* Number of models per trial: 25 models with random assignment to two intervention types (size-one-count-three and size-three-count-three) and sample sizes of 1k and 10k."
   ]
  },
  {
   "cell_type": "code",
   "execution_count": null,
   "metadata": {},
   "outputs": [],
   "source": [
    "# title\n",
    "study = studies['optuna_llc_nf_l2_roc']\n",
    "title = f\"\"\" Sensitivity of the objective value to lambda with L2 penalty.<br>\n",
    "Optimal lamda = {study.best_params['lambda']:.3f} with AUC ROC = {study.best_value:.3f}\"\"\"\n",
    "\n",
    "# plot\n",
    "fig = optuna.visualization.plot_slice(study)\n",
    "fig.update_layout(\n",
    "    title={\n",
    "        \"text\": title,\n",
    "        \"y\":0.95,\n",
    "        \"x\":0.5,\n",
    "        \"xanchor\": \"center\",\n",
    "        \"yanchor\": \"top\"\n",
    "    }\n",
    ")\n",
    "fig.show()"
   ]
  },
  {
   "cell_type": "markdown",
   "metadata": {},
   "source": [
    "<hr style=\"border: none; border-top: 2px solid;\">"
   ]
  },
  {
   "cell_type": "markdown",
   "metadata": {},
   "source": [
    "Information about this study:\n",
    "* Algorithm: LLC (no faithfulness assumption)\n",
    "* Hyperparameters: \n",
    "    * regularization parameter **lambda** with L1 penalty, ranging from 0.0 to 1.0\n",
    "    * threshold **z** for calculating the accuracy from z-scores, ranging from 0.0 to 20.0\n",
    "* Metric: total accuracy over edge and confounder calculated from z-scores\n",
    "* Number of models per trial: 25 models with random assignment to two intervention types (size-one-count-three and size-three-count-three) and sample sizes of 1k and 10k."
   ]
  },
  {
   "cell_type": "code",
   "execution_count": null,
   "metadata": {},
   "outputs": [],
   "source": [
    "# title \n",
    "study = studies['optuna_llc_nf_l1_acc']\n",
    "title = f\"\"\" Sensitivity of the objective value to lambda and z with L1 penalty.<br>\n",
    "Optimal lamda = {study.best_params['lambda']:.3f}, z = {study.best_params['z']:.3f} \n",
    "with accuracy = {study.best_value:.3f}\"\"\"\n",
    "\n",
    "# plot\n",
    "fig = optuna.visualization.plot_slice(study)\n",
    "fig.update_layout(\n",
    "    title={\n",
    "        \"text\": title,\n",
    "        \"y\":0.95,\n",
    "        \"x\":0.5,\n",
    "        \"xanchor\": \"center\",\n",
    "        \"yanchor\": \"top\"\n",
    "    }\n",
    ")\n",
    "fig.show()"
   ]
  },
  {
   "cell_type": "markdown",
   "metadata": {},
   "source": [
    "<hr style=\"border: none; border-top: 2px solid;\">"
   ]
  },
  {
   "cell_type": "markdown",
   "metadata": {},
   "source": [
    "Information about this study:\n",
    "* Algorithm: LLC (no faithfulness assumption)\n",
    "* Hyperparameters: \n",
    "    * regularization parameter **lambda** with L2 penalty, ranging from 0.0 to 1.0\n",
    "    * threshold **z** for calculating the accuracy from z-scores, ranging from 0.0 to 20.0\n",
    "* Metric: total accuracy over edge and confounder calculated from z-scores\n",
    "* Number of models per trial: 25 models with random assignment to two intervention types (size-one-count-three and size-three-count-three) and sample sizes of 1k and 10k."
   ]
  },
  {
   "cell_type": "code",
   "execution_count": null,
   "metadata": {},
   "outputs": [],
   "source": [
    "# title \n",
    "study = studies['optuna_llc_nf_l2_acc']\n",
    "title = f\"\"\" Sensitivity of the objective value to lambda and z with L2 penalty. <br>\n",
    "Optimal lamda = {study.best_params['lambda']:.3f}, z = {study.best_params['z']:.3f} \n",
    "with accuracy = {study.best_value:.3f}\"\"\"\n",
    "\n",
    "# plot\n",
    "fig = optuna.visualization.plot_slice(study)\n",
    "fig.update_layout(\n",
    "    title={\n",
    "        \"text\": title,\n",
    "        \"y\":0.95,\n",
    "        \"x\":0.5,\n",
    "        \"xanchor\": \"center\",\n",
    "        \"yanchor\": \"top\"\n",
    "    }\n",
    ")\n",
    "fig.show()"
   ]
  },
  {
   "cell_type": "markdown",
   "metadata": {},
   "source": [
    "### LLC-F"
   ]
  },
  {
   "cell_type": "markdown",
   "metadata": {},
   "source": [
    "Information about this study:\n",
    "* Algorithm: LLC-F (with faithfulness assumption)\n",
    "* Hyperparameters: \n",
    "    * regularization parameter **lambda** with L1 penalty, ranging from 0.0 to 1.0\n",
    "    * significance level **alpha** for the conditional independence tests, ranging from 0.005 to 0.2\n",
    "* Metric: total AUC ROC over edge and confounder calculated from z-scores\n",
    "* Number of models per trial: 25 models with random assignment to two intervention types (size-one-count-three and size-three-count-three) and sample sizes of 1k and 10k.\n"
   ]
  },
  {
   "cell_type": "code",
   "execution_count": null,
   "metadata": {},
   "outputs": [],
   "source": [
    "# title\n",
    "study = studies['optuna_llc_f_l1_roc']\n",
    "title = f\"\"\" Sensitivity of the objective value to lambda and alpha with L1 penalty.<br>\n",
    "Optimal lamda = {study.best_params['lambda']:.3f}, alpha = {study.best_params['alpha']:.3f} \n",
    "with AUC ROC = {study.best_value:.3f}\"\"\"\n",
    "\n",
    "# plot\n",
    "fig = optuna.visualization.plot_slice(study)\n",
    "fig.update_layout(\n",
    "    title={\n",
    "        \"text\": title,\n",
    "        \"y\":0.95,\n",
    "        \"x\":0.5,\n",
    "        \"xanchor\": \"center\",\n",
    "        \"yanchor\": \"top\"\n",
    "    }\n",
    ")\n",
    "fig.show()"
   ]
  },
  {
   "cell_type": "markdown",
   "metadata": {},
   "source": [
    "<hr style=\"border: none; border-top: 2px solid;\">"
   ]
  },
  {
   "cell_type": "markdown",
   "metadata": {},
   "source": [
    "Information about this study:\n",
    "* Algorithm: LLC-F (with faithfulness assumption)\n",
    "* Hyperparameters: \n",
    "    * regularization parameter **lambda** with L2 penalty, ranging from 0.0 to 1.0\n",
    "    * significance level **alpha** for the conditional independence tests, ranging from 0.005 to 0.2\n",
    "* Metric: total AUC ROC over edge and confounder calculated from z-scores\n",
    "* Number of models per trial: 25 models with random assignment to two intervention types (size-one-count-three and size-three-count-three) and sample sizes of 1k and 10k.\n"
   ]
  },
  {
   "cell_type": "code",
   "execution_count": null,
   "metadata": {},
   "outputs": [],
   "source": [
    "# title\n",
    "study = studies['optuna_llc_f_l2_roc']\n",
    "title = f\"\"\" Sensitivity of the objective value to lambda and alpha with L2 penalty.<br>\n",
    "Optimal lamda = {study.best_params['lambda']:.3f}, alpha = {study.best_params['alpha']:.3f} \n",
    "with AUC ROC = {study.best_value:.3f}\"\"\"\n",
    "\n",
    "# plot\n",
    "fig = optuna.visualization.plot_slice(study)\n",
    "fig.update_layout(\n",
    "    title={\n",
    "        \"text\": title,\n",
    "        \"y\":0.95,\n",
    "        \"x\":0.5,\n",
    "        \"xanchor\": \"center\",\n",
    "        \"yanchor\": \"top\"\n",
    "    }\n",
    ")\n",
    "fig.show()"
   ]
  },
  {
   "cell_type": "markdown",
   "metadata": {},
   "source": [
    "<hr style=\"border: none; border-top: 2px solid;\">"
   ]
  },
  {
   "cell_type": "markdown",
   "metadata": {},
   "source": [
    "Information about this study:\n",
    "* Algorithm: LLC-F (with faithfulness assumption)\n",
    "* Hyperparameters: \n",
    "    * regularization parameter **lambda** with L1 penalty, ranging from 0.0 to 1.0\n",
    "    * significance level **alpha** for the conditional independence tests, ranging from 0.005 to 0.2\n",
    "    * threshold **z** for calculating the accuracy from z-scores, ranging from 0.0 to 20.0\n",
    "* Metric: total accuracy over edge and confounder calculated from z-scores\n",
    "* Number of models per trial: 25 models with random assignment to two intervention types (size-one-count-three and size-three-count-three) and sample sizes of 1k and 10k.\n"
   ]
  },
  {
   "cell_type": "code",
   "execution_count": null,
   "metadata": {},
   "outputs": [],
   "source": [
    "# title\n",
    "study = studies['optuna_llc_f_l1_acc']\n",
    "title = f\"\"\" Sensitivity of the objective value to lambda and alpha with L1 penalty.<br>\n",
    "Optimal lamda = {study.best_params['lambda']:.3f}, alpha = {study.best_params['alpha']:.3f}, \n",
    "z = {study.best_params['z']:.3f} with accuracy = {study.best_value:.3f}\"\"\"\n",
    "\n",
    "# plot\n",
    "fig = optuna.visualization.plot_slice(study)\n",
    "fig.update_layout(\n",
    "    title={\n",
    "        \"text\": title,\n",
    "        \"y\":0.95,\n",
    "        \"x\":0.5,\n",
    "        \"xanchor\": \"center\",\n",
    "        \"yanchor\": \"top\"\n",
    "    }\n",
    ")\n",
    "fig.show()"
   ]
  },
  {
   "cell_type": "markdown",
   "metadata": {},
   "source": [
    "<hr style=\"border: none; border-top: 2px solid;\">"
   ]
  },
  {
   "cell_type": "markdown",
   "metadata": {},
   "source": [
    "Information about this study:\n",
    "* Algorithm: LLC-F (with faithfulness assumption)\n",
    "* Hyperparameters: \n",
    "    * regularization parameter **lambda** with L2 penalty, ranging from 0.0 to 1.0\n",
    "    * significance level **alpha** for the conditional independence tests, ranging from 0.005 to 0.2\n",
    "    * threshold **z** for calculating the accuracy from z-scores, ranging from 0.0 to 20.0\n",
    "* Metric: total accuracy over edge and confounder calculated from z-scores\n",
    "* Number of models per trial: 25 models with random assignment to two intervention types (size-one-count-three and size-three-count-three) and sample sizes of 1k and 10k.\n"
   ]
  },
  {
   "cell_type": "code",
   "execution_count": null,
   "metadata": {},
   "outputs": [],
   "source": [
    "# title\n",
    "study = studies['optuna_llc_f_l2_acc']\n",
    "title = f\"\"\" Sensitivity of the objective value to lambda and alpha with L2 penalty.<br>\n",
    "Optimal lamda = {study.best_params['lambda']:.3f}, alpha = {study.best_params['alpha']:.3f}, \n",
    "z = {study.best_params['z']:.3f} with accuracy = {study.best_value:.3f}\"\"\"\n",
    "\n",
    "# plot\n",
    "fig = optuna.visualization.plot_slice(study)\n",
    "fig.update_layout(\n",
    "    title={\n",
    "        \"text\": title,\n",
    "        \"y\":0.95,\n",
    "        \"x\":0.5,\n",
    "        \"xanchor\": \"center\",\n",
    "        \"yanchor\": \"top\"\n",
    "    }\n",
    ")\n",
    "fig.show()"
   ]
  }
 ],
 "metadata": {
  "kernelspec": {
   "display_name": "Python 3 (ipykernel)",
   "language": "python",
   "name": "python3"
  },
  "language_info": {
   "codemirror_mode": {
    "name": "ipython",
    "version": 3
   },
   "file_extension": ".py",
   "mimetype": "text/x-python",
   "name": "python",
   "nbconvert_exporter": "python",
   "pygments_lexer": "ipython3",
   "version": "3.10.8"
  }
 },
 "nbformat": 4,
 "nbformat_minor": 2
}
